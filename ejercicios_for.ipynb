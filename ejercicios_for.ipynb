{
  "nbformat": 4,
  "nbformat_minor": 0,
  "metadata": {
    "colab": {
      "provenance": [],
      "authorship_tag": "ABX9TyP43dTC1JjHgJQ/FGVkRnvN",
      "include_colab_link": true
    },
    "kernelspec": {
      "name": "python3",
      "display_name": "Python 3"
    },
    "language_info": {
      "name": "python"
    }
  },
  "cells": [
    {
      "cell_type": "markdown",
      "metadata": {
        "id": "view-in-github",
        "colab_type": "text"
      },
      "source": [
        "<a href=\"https://colab.research.google.com/github/pasecolra/ejercicios_for/blob/main/ejercicios_for.ipynb\" target=\"_parent\"><img src=\"https://colab.research.google.com/assets/colab-badge.svg\" alt=\"Open In Colab\"/></a>"
      ]
    },
    {
      "cell_type": "markdown",
      "source": [
        "# INSTRUCCION REPETITIVA FOR"
      ],
      "metadata": {
        "id": "-abW0Fo6q7CZ"
      }
    },
    {
      "cell_type": "code",
      "execution_count": null,
      "metadata": {
        "id": "fIDsYnYQqXLA"
      },
      "outputs": [],
      "source": [
        "# EJERCICIO 1: MOSTRAR LOS NUMEROS DEL 1 AL 10 SIN USAR FUNCIONES REPETITIVAS\n",
        "\n",
        "print(1)\n",
        "print(2)\n",
        "print(3)\n",
        "print(4)\n",
        "print(5)\n",
        "print(6)\n",
        "print(7)\n",
        "print(8)\n",
        "print(9)\n",
        "print(10)"
      ]
    },
    {
      "cell_type": "code",
      "source": [
        "#   ejercicio 2: MOSTRAR LOS NUMEROS DEL 1 AL 10 USANDO WHILE\n",
        "\n",
        "i = 0\n",
        "while i < 10:\n",
        "  i=i+1\n",
        "  print(i)"
      ],
      "metadata": {
        "id": "D5jE-hjOtb3s"
      },
      "execution_count": null,
      "outputs": []
    },
    {
      "cell_type": "code",
      "source": [
        "# EJERCICIO 3: MOSTRAR LOS NUMMEROS DEL 1 AL 10 USANDO FOR\n",
        "\n",
        "\"\"\"lista=[1,2,3,4,5,6,7,8,9,10]\n",
        "\n",
        "for i in lista:\n",
        "  print(i)\"\"\"\n",
        "\n",
        "for i in [1,2,3,4,5,6,7,8,9,10]:\n",
        "  print(i)"
      ],
      "metadata": {
        "id": "14tFht-Mu4WC"
      },
      "execution_count": null,
      "outputs": []
    },
    {
      "cell_type": "code",
      "source": [
        "# EJERCICIO 4: MOSTRAR LOS NUMEROS DEL 1 AL 10 USANDO FOR Y RANGE\n",
        "\n",
        "for i in range(1,11):\n",
        "  print(i)"
      ],
      "metadata": {
        "id": "Qvfc6T4Mw0OQ"
      },
      "execution_count": null,
      "outputs": []
    },
    {
      "cell_type": "code",
      "source": [
        "# EJERCICIO 5: MOSTRAR UNA FRASE 10 VECES USANDO LA FUNCION FOR Y UNA LISTA\n",
        "\n",
        "lista=[1,2,3,4,5,6,7,8,9,10]\n",
        "\n",
        "for i in lista:\n",
        "  print(f\"{i} sistemas, el mejor!!!\")"
      ],
      "metadata": {
        "id": "vxnMnF6kxnyz"
      },
      "execution_count": null,
      "outputs": []
    },
    {
      "cell_type": "code",
      "source": [
        "# EJERCICIO 6: MOSTRAR LAS SILAVA INICIAL DE LA SILAVA DE LA SEMANA USANDO FOR Y UNA LISTA CON LA SILAVA INICIAL DEL DIA DE LA SEMANA\n",
        "\n",
        "dia_semana=[\"LU\",\"MA\",\"MI\",\"JU\",\"VI\",\"SA\",\"DO\"]\n",
        "for i in dia_semana:\n",
        "  print(i)"
      ],
      "metadata": {
        "id": "e80DbNeAyfDw"
      },
      "execution_count": null,
      "outputs": []
    },
    {
      "cell_type": "code",
      "source": [
        "# EJERCICIO 7: MOSTRAR DIFERENTES LISTA DE DATOS USANDO FOR\n",
        "\n",
        "lista=[1, 3,4, 9, True, \"paul\" ,8,\"guanenta\"]\n",
        "\n",
        "for i in lista:\n",
        "  print(i)"
      ],
      "metadata": {
        "id": "0FrgsyP0zfmb"
      },
      "execution_count": null,
      "outputs": []
    },
    {
      "cell_type": "code",
      "source": [
        "#EJERCICIO 8: MOSTRAR SU NOMBRE LETRA POR LETRA USANDO FOR\n",
        "\n",
        "nombre=input(\"ingrese su nombre: \")\n",
        "\n",
        "for i in nombre:\n",
        "  print(i)"
      ],
      "metadata": {
        "id": "UX4t6-Fg0FXa"
      },
      "execution_count": null,
      "outputs": []
    },
    {
      "cell_type": "code",
      "source": [
        "# EJERCICIO 9: MOSTRAR SU NOMBRE LETRA POR LETRA USANDO FOR CAMBIANDO POR ASTERISTO LA LETRA \"E\"\n",
        "\n",
        "nombre=input(\"ingrese su nombre: \")\n",
        "\n",
        "for letra in nombre:\n",
        "  if letra == \"e\":\n",
        "    print(\"*\")\n",
        "  else:\n",
        "    print(letra)"
      ],
      "metadata": {
        "id": "BlkDqFzE1BpR"
      },
      "execution_count": null,
      "outputs": []
    },
    {
      "cell_type": "code",
      "source": [
        "# EJERCICIO 10: INGRESAR SU NOMBRE Y MOSTRARLO EN MAYUSCUL USANDO FOR\n",
        "\n",
        "nombre=input(\"ingrese su nombre: \")\n",
        "\n",
        "for letra in nombre:\n",
        "  print(letra.upper())"
      ],
      "metadata": {
        "id": "N2O2InbFABSb"
      },
      "execution_count": null,
      "outputs": []
    },
    {
      "cell_type": "code",
      "source": [
        "# EJERCICIO 11: IMPRIMA UNA LISTA DE NUMEROS USANDO FOR Y RANGE \n",
        "\n",
        "print(\"numeros del 0 al 9\")\n",
        "for i in range(10):\n",
        "  print(i)\n",
        "\n",
        "print(\"numeros del 1 al 10\")\n",
        "for i in range(1,11):\n",
        "  print(i)\n",
        "\n",
        "print(\"10 veces la frase\")\n",
        "for i in range(10):\n",
        "  print(\"sistemas la mejor\")\n",
        "\n",
        "print(\"10 veces la frase i= \")\n",
        "for i in range(10):\n",
        "  print(\"i=\"+str(i))\n",
        "\n",
        "print(\"10 veces la frase i= \")\n",
        "for i in range(10):\n",
        "  print(f\"i= {i}\")\n",
        "\n",
        "print(\"rango del 7 al 18, incrementando de 4 en 4\")\n",
        "for i in range(7,19,4):\n",
        "  print(i)\n",
        "\n",
        "print(\"conviert rango en lista a, y a la muestra\")\n",
        "a=list(range(1000))\n",
        "print(a)\n",
        "\n"
      ],
      "metadata": {
        "id": "vvpJqN--AnqK"
      },
      "execution_count": null,
      "outputs": []
    }
  ]
}